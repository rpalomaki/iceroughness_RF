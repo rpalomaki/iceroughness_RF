{
 "cells": [
  {
   "cell_type": "code",
   "execution_count": 15,
   "metadata": {},
   "outputs": [],
   "source": [
    "import pandas as pd\n",
    "import numpy as np\n",
    "\n",
    "#s1_old = pd.read_csv('input_data/s1_data.csv', index_col=[0,1])\n",
    "s1_zonal_0218 = pd.read_csv('input_data/S1_0218_zonal.csv')\n",
    "s1_zonal_0218.drop(columns='OID_', inplace=True)\n",
    "s1_zonal_0218['date'] = '0218'\n",
    "s1_zonal_0218.index = pd.MultiIndex.from_arrays([s1_zonal_0218['date'], s1_zonal_0218['S1_pixel_ID']])\n",
    "s1_zonal_0218.drop(columns=['date','S1_pixel_ID'], inplace=True)\n",
    "s1_zonal_0218.sort_index(inplace=True)\n",
    "\n",
    "s1_zonal_0302 = pd.read_csv('input_data/S1_0302_zonal.csv')\n",
    "s1_zonal_0302.drop(columns='OID_', inplace=True)\n",
    "s1_zonal_0302['date'] = '0302'\n",
    "s1_zonal_0302.index = pd.MultiIndex.from_arrays([s1_zonal_0302['date'], s1_zonal_0302['S1_pixel_ID']])\n",
    "s1_zonal_0302.drop(columns=['date','S1_pixel_ID'], inplace=True)\n",
    "s1_zonal_0302.sort_index(inplace=True)\n",
    "\n",
    "s1_data = pd.concat([s1_zonal_0218, s1_zonal_0302])\n",
    "# s1_data.to_csv('input_data/s1_zonal_data.csv')\n",
    "\n"
   ]
  },
  {
   "cell_type": "code",
   "execution_count": 6,
   "metadata": {},
   "outputs": [],
   "source": [
    "import pandas as pd\n",
    "import numpy as np\n",
    "\n",
    "s1_class_0218 = pd.read_csv('input_data/classification_data_0218.csv')\n",
    "s1_class_0218.drop(columns='OID_', inplace=True)\n",
    "s1_class_0218['date'] = '0218'\n",
    "s1_class_0218.index = pd.MultiIndex.from_arrays([s1_class_0218['date'], s1_class_0218['S1_pixel_ID']])\n",
    "s1_class_0218.drop(columns=['date','S1_pixel_ID'], inplace=True)\n",
    "s1_class_0218.sort_index(inplace=True)\n",
    "\n",
    "s1_class_0302 = pd.read_csv('input_data/classification_data_0302.csv')\n",
    "s1_class_0302.drop(columns='OID_', inplace=True)\n",
    "s1_class_0302['date'] = '0302'\n",
    "s1_class_0302.index = pd.MultiIndex.from_arrays([s1_class_0302['date'], s1_class_0302['S1_pixel_ID']])\n",
    "s1_class_0302.drop(columns=['date','S1_pixel_ID'], inplace=True)\n",
    "s1_class_0302.sort_index(inplace=True)\n",
    "\n",
    "s1_data = pd.concat([s1_class_0218, s1_class_0302]).dropna()\n",
    "s1_data.to_csv('input_data/s1_classification_data.csv')\n"
   ]
  },
  {
   "cell_type": "code",
   "execution_count": null,
   "metadata": {},
   "outputs": [],
   "source": []
  }
 ],
 "metadata": {
  "kernelspec": {
   "display_name": "Python 3.8.8 ('base')",
   "language": "python",
   "name": "python3"
  },
  "language_info": {
   "codemirror_mode": {
    "name": "ipython",
    "version": 3
   },
   "file_extension": ".py",
   "mimetype": "text/x-python",
   "name": "python",
   "nbconvert_exporter": "python",
   "pygments_lexer": "ipython3",
   "version": "3.8.8"
  },
  "orig_nbformat": 4,
  "vscode": {
   "interpreter": {
    "hash": "40d3a090f54c6569ab1632332b64b2c03c39dcf918b08424e98f38b5ae0af88f"
   }
  }
 },
 "nbformat": 4,
 "nbformat_minor": 2
}
