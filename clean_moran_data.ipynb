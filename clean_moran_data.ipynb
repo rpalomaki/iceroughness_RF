{
 "cells": [
  {
   "cell_type": "code",
   "execution_count": 1,
   "id": "02a2165d-5799-49e0-aae0-f3d2807d1229",
   "metadata": {},
   "outputs": [],
   "source": [
    "%matplotlib widget\n",
    "import pandas as pd\n",
    "import numpy as np\n",
    "import matplotlib.pyplot as plt\n",
    "from glob import glob\n",
    "from scipy.stats import lognorm, anderson, kstest\n",
    "import warnings\n",
    "warnings.filterwarnings(\"ignore\", category=RuntimeWarning)\n",
    "from datetime import datetime"
   ]
  },
  {
   "cell_type": "code",
   "execution_count": 7,
   "id": "28cf6a83-8c89-48da-bf58-adb85f5452b8",
   "metadata": {},
   "outputs": [],
   "source": [
    "stat = 'med'\n",
    "data_0218 = pd.read_csv(f'input_data/moran_0218_{stat}_InvDistSq_RowNormal.csv')\n",
    "data_0302 = pd.read_csv(f'input_data/moran_0302_{stat}_InvDistSq_RowNormal.csv')\n",
    "data_0218['date'] = data_0218['date'].astype(str).str.zfill(4)\n",
    "data_0302['date'] = data_0302['date'].astype(str).str.zfill(4)\n",
    "\n",
    "data_0218.index = pd.MultiIndex.from_arrays([data_0218['date'], data_0218['S1_pixel_ID']])\n",
    "data_0218.drop(columns=['date','S1_pixel_ID'], inplace=True)\n",
    "data_0302.index = pd.MultiIndex.from_arrays([data_0302['date'], data_0302['S1_pixel_ID']])\n",
    "data_0302.drop(columns=['date','S1_pixel_ID'], inplace=True)\n",
    "\n",
    "data = pd.concat([data_0218, data_0302])\n",
    "data.to_csv('input_data/moran_med.csv')"
   ]
  },
  {
   "cell_type": "code",
   "execution_count": null,
   "id": "748fea03-b69f-4905-878d-b9b2fb8568db",
   "metadata": {},
   "outputs": [],
   "source": []
  }
 ],
 "metadata": {
  "kernelspec": {
   "display_name": "Python 3",
   "language": "python",
   "name": "python3"
  },
  "language_info": {
   "codemirror_mode": {
    "name": "ipython",
    "version": 3
   },
   "file_extension": ".py",
   "mimetype": "text/x-python",
   "name": "python",
   "nbconvert_exporter": "python",
   "pygments_lexer": "ipython3",
   "version": "3.8.10"
  }
 },
 "nbformat": 4,
 "nbformat_minor": 5
}
