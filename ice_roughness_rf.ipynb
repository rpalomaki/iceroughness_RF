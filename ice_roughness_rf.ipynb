{
 "cells": [
  {
   "cell_type": "code",
   "execution_count": 1,
   "metadata": {},
   "outputs": [],
   "source": [
    "import numpy as np\n",
    "import pandas as pd\n",
    "import re\n",
    "import matplotlib.pyplot as plt\n",
    "from sklearn.ensemble import RandomForestRegressor, RandomForestClassifier\n",
    "from sklearn.model_selection import train_test_split\n",
    "from scipy.stats import norm, lognorm, anderson, kstest\n",
    "from sklearn import metrics\n",
    "from rf_functions import data_setup, run_rf_reg, run_rf_cla, confusion_heatmap\n",
    "import matplotlib.pyplot as plt\n",
    "import seaborn as sns\n",
    "from datetime import datetime\n",
    "import warnings\n",
    "warnings.filterwarnings(\"ignore\", category=RuntimeWarning)\n",
    "pd.options.mode.chained_assignment = None"
   ]
  },
  {
   "cell_type": "markdown",
   "metadata": {},
   "source": [
    "# Regression - single date"
   ]
  },
  {
   "cell_type": "code",
   "execution_count": null,
   "metadata": {},
   "outputs": [],
   "source": [
    "s1_fp = 'input_data/s1_zonal_data.csv'\n",
    "stats_fp = 'output/stats/scale_shape_both_dates.csv'\n",
    "moran_fp = 'input_data/moran_max.csv'\n",
    "output_dir_predict = 'output/rf_predictions/single_date/'\n",
    "output_dir_metrics = 'output/rf_metrics/single_date/'\n",
    "out_file_prefix = 'func_test_dB'\n",
    "\n",
    "targets, predictors = data_setup(s1_fp, stats_fp, moran_fp, s1_units='dB', date=None) # regression\n",
    "cols_0218 = [c for c in targets.columns if '0219' in c]\n",
    "cols_0302 = [c for c in targets.columns if '0304' in c]\n",
    "cols_misc = [c for c in targets.columns if c not in cols_0218 and c not in cols_0302]\n",
    "cols_misc.remove('Point_ID')\n",
    "cols_misc.remove('moran_p')\n",
    "cols_0218 += cols_misc\n",
    "cols_0302 += cols_misc\n",
    "\n",
    "cols_0218 = [c for c in cols_0218 if '10m' in c]\n",
    "cols_0302 = [c for c in cols_0302 if '10m' in c]\n",
    "\n",
    "targets_0218 = targets[cols_0218].dropna()\n",
    "targets_0302 = targets[cols_0302].dropna()\n",
    "\n",
    "# run_rf_reg(targets_0218, predictors.loc[targets_0218.index], n_runs=100, \n",
    "#        rf_type='single_target', output_dir_predict=output_dir_predict,\n",
    "#        output_dir_metrics=output_dir_metrics, out_file_prefix=out_file_prefix)\n",
    "# run_rf_reg(targets_0302, predictors.loc[targets_0302.index], n_runs=100, \n",
    "#        rf_type='single_target', output_dir_predict=output_dir_predict,\n",
    "#        output_dir_metrics=output_dir_metrics, out_file_prefix=out_file_prefix)\n",
    "\n"
   ]
  },
  {
   "cell_type": "markdown",
   "metadata": {},
   "source": [
    "# Regression - multi date\n",
    "\n",
    "Note - need to run the previous cell to load in the data"
   ]
  },
  {
   "cell_type": "code",
   "execution_count": null,
   "metadata": {},
   "outputs": [],
   "source": [
    "output_dir_predict = 'output/rf_predictions/multi_date/'\n",
    "output_dir_metrics = 'output/rf_metrics/multi_date/'\n",
    "out_file_prefix = 'func_test_dB'\n",
    "\n",
    "def remove_date(col):\n",
    "    if '0219' in col:\n",
    "        date_start = col.index('0219')\n",
    "    elif '0304' in col:\n",
    "        date_start = col.index('0304')\n",
    "    else:\n",
    "        return col\n",
    "    \n",
    "    new_col = col[:date_start] + col[date_start+5:]\n",
    "    if '_1_' in new_col:\n",
    "        ind = new_col.index('_1_')\n",
    "        new_col = new_col[:ind] + new_col[ind+2:]\n",
    "    return new_col\n",
    "\n",
    "cols_0218_new = [remove_date(c) for c in cols_0218]\n",
    "cols_0302_new = [remove_date(c) for c in cols_0302]\n",
    "\n",
    "targets_0218.columns = cols_0218_new\n",
    "targets_0302.columns = cols_0302_new\n",
    "\n",
    "targets_all = pd.concat([targets_0218, targets_0302])\n",
    "\n",
    "# run_rf_reg(targets_all, predictors, n_runs=100, rf_type='single_target', \n",
    "#        output_dir_predict=output_dir_predict, output_dir_metrics=output_dir_metrics, \n",
    "#        out_file_prefix=out_file_prefix)\n",
    "\n"
   ]
  },
  {
   "cell_type": "markdown",
   "metadata": {},
   "source": [
    "# Classification"
   ]
  },
  {
   "cell_type": "code",
   "execution_count": 2,
   "metadata": {},
   "outputs": [
    {
     "ename": "NameError",
     "evalue": "name 'dfdf' is not defined",
     "output_type": "error",
     "traceback": [
      "\u001b[0;31m---------------------------------------------------------------------------\u001b[0m",
      "\u001b[0;31mNameError\u001b[0m                                 Traceback (most recent call last)",
      "\u001b[0;32m<ipython-input-2-804a1b44d4f2>\u001b[0m in \u001b[0;36m<module>\u001b[0;34m\u001b[0m\n\u001b[1;32m     43\u001b[0m              'random_state':5033}\n\u001b[1;32m     44\u001b[0m \u001b[0;34m\u001b[0m\u001b[0m\n\u001b[0;32m---> 45\u001b[0;31m \u001b[0mdfdf\u001b[0m\u001b[0;34m\u001b[0m\u001b[0;34m\u001b[0m\u001b[0m\n\u001b[0m\u001b[1;32m     46\u001b[0m cm_0218, cm_labels_0218 = run_rf_cla(targets_0218, predictors.loc[targets_0218.index], n_runs=100,\n\u001b[1;32m     47\u001b[0m     \u001b[0mclass_split_method\u001b[0m\u001b[0;34m=\u001b[0m\u001b[0;34m'custom'\u001b[0m\u001b[0;34m,\u001b[0m \u001b[0mrf_params\u001b[0m\u001b[0;34m=\u001b[0m\u001b[0mrf_params\u001b[0m\u001b[0;34m,\u001b[0m\u001b[0;34m\u001b[0m\u001b[0;34m\u001b[0m\u001b[0m\n",
      "\u001b[0;31mNameError\u001b[0m: name 'dfdf' is not defined"
     ]
    }
   ],
   "source": [
    "s1_fp = 'input_data/s1_classification_data.csv' # classification\n",
    "output_dir_predict = 'output/rf_classification/visually_based/class_results/single_date/'\n",
    "output_dir_cm = 'output/figures/confusion/'\n",
    "out_file_prefix = 'smooth_rough_mixed'\n",
    "\n",
    "targets, predictors = data_setup(s1_fp, s1_units='dB', date=None, \n",
    "                                 drop_vv_glcm=False, drop_ad=False)\n",
    "targets.rename(columns={'class_assignment':'class'}, inplace=True)\n",
    "\n",
    "# For now, drop 'NC' class\n",
    "targets = targets.loc[targets['class']!='NC']\n",
    "targets = targets.loc[targets['class']!='mixed']\n",
    "targets = targets.loc[targets['class']!='water']\n",
    "\n",
    "# Dumb indexing to maintain multiindex values to pass to func below\n",
    "targets_0218 = targets.loc[[i for i in targets.index if i[0] == '0218']]\n",
    "targets_0302 = targets.loc[[i for i in targets.index if i[0] == '0302']]\n",
    "\n",
    "# Resample datasets for even samples in all classes\n",
    "n_samples = 80\n",
    "targets_0218_rough = targets_0218[targets_0218['class'] == 'rough'].sample(n_samples)\n",
    "targets_0218_smooth = targets_0218[targets_0218['class'] == 'smooth'].sample(n_samples)\n",
    "try:\n",
    "    targets_0218_mixed = targets_0218[targets_0218['class'] == 'mixed'].sample(n_samples)\n",
    "    targets_0218 = pd.concat([targets_0218_rough, targets_0218_smooth, targets_0218_mixed])\n",
    "except:\n",
    "    targets_0218 = pd.concat([targets_0218_rough, targets_0218_smooth])\n",
    "\n",
    "targets_0302_rough = targets_0302[targets_0302['class'] == 'rough'].sample(n_samples)\n",
    "targets_0302_smooth = targets_0302[targets_0302['class'] == 'smooth'].sample(n_samples)\n",
    "try:\n",
    "    targets_0302_mixed = targets_0302[targets_0302['class'] == 'mixed'].sample(n_samples)\n",
    "    targets_0302 = pd.concat([targets_0302_rough, targets_0302_smooth, targets_0302_mixed])\n",
    "except:\n",
    "    targets_0302 = pd.concat([targets_0302_rough, targets_0302_smooth])\n",
    "\n",
    "targets = pd.concat([targets_0218, targets_0302])\n",
    "targets.to_csv('output/stats/classification_samples.csv')\n",
    "\n",
    "rf_params = {'n_estimators':500,\n",
    "             'max_features':'sqrt',\n",
    "             'max_depth':None, \n",
    "             'random_state':5033}\n",
    "\n",
    "dfdf\n",
    "cm_0218, cm_labels_0218 = run_rf_cla(targets_0218, predictors.loc[targets_0218.index], n_runs=100,\n",
    "    class_split_method='custom', rf_params=rf_params,\n",
    "    output_dir_predict=output_dir_predict, out_file_prefix=out_file_prefix,\n",
    "    output_dir_cm=output_dir_cm, return_cm=True)\n",
    "cm_0302, cm_labels_0302 = run_rf_cla(targets_0302, predictors.loc[targets_0302.index], n_runs=100, \n",
    "    class_split_method='custom', rf_params=rf_params,\n",
    "    output_dir_predict=output_dir_predict, out_file_prefix=out_file_prefix,\n",
    "    output_dir_cm=output_dir_cm, return_cm=True)\n",
    "\n",
    "output_dir_predict = 'output/rf_classification/visually_based/class_results/multi_date/'\n",
    "output_dir_cm = 'output/figures/confusion/'\n",
    "out_file_prefix = 'smooth_rough_only'\n",
    "\n",
    "cm, cm_labels = run_rf_cla(targets, predictors.loc[targets.index], n_runs=100, class_split_method='custom',\n",
    "    output_dir_predict=output_dir_predict, out_file_prefix=out_file_prefix, rf_params=rf_params,\n",
    "    output_dir_cm=output_dir_cm, return_cm=True)\n",
    "    "
   ]
  },
  {
   "cell_type": "code",
   "execution_count": 13,
   "metadata": {},
   "outputs": [
    {
     "data": {
      "image/png": "[encoded data removed]",
      "text/plain": [
       "<Figure size 720x360 with 6 Axes>"
      ]
     },
     "metadata": {
      "needs_background": "light"
     },
     "output_type": "display_data"
    }
   ],
   "source": [
    "cm_0218 = np.array([[2106, 318],[283, 2093]])\n",
    "cm_0302 = np.array([[1838, 604],[712, 1646]])\n",
    "cm = np.array([[3506, 1307],[1222, 3565]])\n",
    "\n",
    "\n",
    "fig, ax = plt.subplots(1, 3, figsize=(10,5))\n",
    "cm_labels = ['Rubble','Sheet']\n",
    "confusion_heatmap(cm=cm_0218, ax=ax[0], cmap='Blues', vmin=0, vmax=cm.max(),\n",
    "    norm=True, xticklabels=cm_labels, yticklabels=cm_labels, font_scale=1.2,\n",
    "    cbar_label='', fig_title=f'February 19 (OA: 0.875)', \n",
    "    output_dir_cm=output_dir_cm)\n",
    "confusion_heatmap(cm=cm_0302, ax=ax[1], cmap='Blues', vmin=0, vmax=cm.max(),\n",
    "    norm=True, xticklabels=cm_labels, yticklabels=cm_labels, font_scale=1.2,\n",
    "    cbar_label='', fig_title='March 4 (OA: 0.726)', ylabel=False,\n",
    "    output_dir_cm=output_dir_cm)\n",
    "confusion_heatmap(cm=cm, ax=ax[2], cmap='Blues', vmin=0, vmax=cm.max(),\n",
    "    norm=True, xticklabels=['Rubble','Sheet'], yticklabels=cm_labels, font_scale=1.2,\n",
    "    cbar_label='Classification accuracy', fig_title='Both dates (OA: 0.737)', ylabel=False,\n",
    "    output_dir_cm=output_dir_cm)\n",
    "plt.tight_layout()\n",
    "\n",
    "fig.savefig('output/figures/confusion/class_results.pdf', dpi=600)\n",
    "\n",
    "\n"
   ]
  },
  {
   "cell_type": "markdown",
   "metadata": {},
   "source": [
    "# Classification - multi date\n",
    "\n",
    "Note - need to run the previous cell to load in the data"
   ]
  },
  {
   "cell_type": "code",
   "execution_count": 15,
   "metadata": {},
   "outputs": [
    {
     "name": "stdout",
     "output_type": "stream",
     "text": [
      "[[2106  318]\n",
      " [ 283 2093]]\n",
      "[[1838  604]\n",
      " [ 712 1646]]\n",
      "[[3506 1307]\n",
      " [1222 3565]]\n"
     ]
    }
   ],
   "source": [
    "print(cm_0218) \n",
    "print(cm_0302)\n",
    "print(cm)"
   ]
  },
  {
   "cell_type": "code",
   "execution_count": 12,
   "metadata": {},
   "outputs": [
    {
     "data": {
      "text/plain": [
       "0.8747916666666666"
      ]
     },
     "execution_count": 12,
     "metadata": {},
     "output_type": "execute_result"
    }
   ],
   "source": [
    "arr = cm_0218\n",
    "(arr[0,0] + arr[1,1]) / arr.sum().sum()"
   ]
  },
  {
   "cell_type": "code",
   "execution_count": null,
   "metadata": {},
   "outputs": [],
   "source": []
  }
 ],
 "metadata": {
  "kernelspec": {
   "display_name": "Python 3.8.8 ('base')",
   "language": "python",
   "name": "python3"
  },
  "language_info": {
   "codemirror_mode": {
    "name": "ipython",
    "version": 3
   },
   "file_extension": ".py",
   "mimetype": "text/x-python",
   "name": "python",
   "nbconvert_exporter": "python",
   "pygments_lexer": "ipython3",
   "version": "3.8.8"
  },
  "orig_nbformat": 4,
  "vscode": {
   "interpreter": {
    "hash": "40d3a090f54c6569ab1632332b64b2c03c39dcf918b08424e98f38b5ae0af88f"
   }
  }
 },
 "nbformat": 4,
 "nbformat_minor": 2
}
