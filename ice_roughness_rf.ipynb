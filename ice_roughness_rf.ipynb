{
 "cells": [
  {
   "cell_type": "code",
   "execution_count": 1,
   "metadata": {},
   "outputs": [],
   "source": [
    "import numpy as np\n",
    "import pandas as pd\n",
    "import re\n",
    "import matplotlib.pyplot as plt\n",
    "from sklearn.ensemble import RandomForestRegressor, RandomForestClassifier\n",
    "from sklearn.model_selection import train_test_split\n",
    "from scipy.stats import norm, lognorm, anderson, kstest\n",
    "from sklearn import metrics\n",
    "from rf_functions import data_setup, run_rf_reg, run_rf_cla\n",
    "import matplotlib.pyplot as plt\n",
    "import seaborn as sns\n",
    "from datetime import datetime\n",
    "import warnings\n",
    "warnings.filterwarnings(\"ignore\", category=RuntimeWarning)\n",
    "pd.options.mode.chained_assignment = None"
   ]
  },
  {
   "cell_type": "markdown",
   "metadata": {},
   "source": [
    "# Regression - single date"
   ]
  },
  {
   "cell_type": "code",
   "execution_count": null,
   "metadata": {},
   "outputs": [],
   "source": [
    "s1_fp = 'input_data/s1_zonal_data.csv'\n",
    "stats_fp = 'output/stats/scale_shape_both_dates.csv'\n",
    "moran_fp = 'input_data/moran_max.csv'\n",
    "output_dir_predict = 'output/rf_predictions/single_date/'\n",
    "output_dir_metrics = 'output/rf_metrics/single_date/'\n",
    "out_file_prefix = 'func_test_dB'\n",
    "\n",
    "targets, predictors = data_setup(s1_fp, stats_fp, moran_fp, s1_units='dB', date=None) # regression\n",
    "cols_0218 = [c for c in targets.columns if '0219' in c]\n",
    "cols_0302 = [c for c in targets.columns if '0304' in c]\n",
    "cols_misc = [c for c in targets.columns if c not in cols_0218 and c not in cols_0302]\n",
    "cols_misc.remove('Point_ID')\n",
    "cols_misc.remove('moran_p')\n",
    "cols_0218 += cols_misc\n",
    "cols_0302 += cols_misc\n",
    "\n",
    "cols_0218 = [c for c in cols_0218 if '10m' in c]\n",
    "cols_0302 = [c for c in cols_0302 if '10m' in c]\n",
    "\n",
    "targets_0218 = targets[cols_0218].dropna()\n",
    "targets_0302 = targets[cols_0302].dropna()\n",
    "\n",
    "# run_rf_reg(targets_0218, predictors.loc[targets_0218.index], n_runs=100, \n",
    "#        rf_type='single_target', output_dir_predict=output_dir_predict,\n",
    "#        output_dir_metrics=output_dir_metrics, out_file_prefix=out_file_prefix)\n",
    "# run_rf_reg(targets_0302, predictors.loc[targets_0302.index], n_runs=100, \n",
    "#        rf_type='single_target', output_dir_predict=output_dir_predict,\n",
    "#        output_dir_metrics=output_dir_metrics, out_file_prefix=out_file_prefix)\n",
    "\n"
   ]
  },
  {
   "cell_type": "markdown",
   "metadata": {},
   "source": [
    "# Regression - multi date\n",
    "\n",
    "Note - need to run the previous cell to load in the data"
   ]
  },
  {
   "cell_type": "code",
   "execution_count": null,
   "metadata": {},
   "outputs": [],
   "source": [
    "output_dir_predict = 'output/rf_predictions/multi_date/'\n",
    "output_dir_metrics = 'output/rf_metrics/multi_date/'\n",
    "out_file_prefix = 'func_test_dB'\n",
    "\n",
    "def remove_date(col):\n",
    "    if '0219' in col:\n",
    "        date_start = col.index('0219')\n",
    "    elif '0304' in col:\n",
    "        date_start = col.index('0304')\n",
    "    else:\n",
    "        return col\n",
    "    \n",
    "    new_col = col[:date_start] + col[date_start+5:]\n",
    "    if '_1_' in new_col:\n",
    "        ind = new_col.index('_1_')\n",
    "        new_col = new_col[:ind] + new_col[ind+2:]\n",
    "    return new_col\n",
    "\n",
    "cols_0218_new = [remove_date(c) for c in cols_0218]\n",
    "cols_0302_new = [remove_date(c) for c in cols_0302]\n",
    "\n",
    "targets_0218.columns = cols_0218_new\n",
    "targets_0302.columns = cols_0302_new\n",
    "\n",
    "targets_all = pd.concat([targets_0218, targets_0302])\n",
    "\n",
    "# run_rf_reg(targets_all, predictors, n_runs=100, rf_type='single_target', \n",
    "#        output_dir_predict=output_dir_predict, output_dir_metrics=output_dir_metrics, \n",
    "#        out_file_prefix=out_file_prefix)\n",
    "\n"
   ]
  },
  {
   "cell_type": "markdown",
   "metadata": {},
   "source": [
    "# Classification - single date"
   ]
  },
  {
   "cell_type": "code",
   "execution_count": 2,
   "metadata": {},
   "outputs": [
    {
     "name": "stdout",
     "output_type": "stream",
     "text": [
      "                        AREA  PERCENTAGE   class\n",
      "date S1_pixel_ID                                \n",
      "0218 1             96.846579   96.846579  smooth\n",
      "     6            100.000000  100.000000   mixed\n",
      "     9             49.661367   49.661367      NC\n",
      "     11            63.555294   63.555294  smooth\n",
      "     13           100.000000  100.000000   mixed\n",
      "...                      ...         ...     ...\n",
      "0302 2521          28.133500   28.133500      NC\n",
      "     2524         100.000000  100.000000   mixed\n",
      "     2529           8.622913    8.622913      NC\n",
      "     2531          72.366325   72.366325   mixed\n",
      "     2533          73.664000   73.664000  smooth\n",
      "\n",
      "[1923 rows x 3 columns]\n",
      "158 538\n",
      "threshold: 50 -- n_samples: 78\n",
      "2022-10-25 17:04:37 -- Starting RF classification (1 targets total).\n",
      "2022-10-25 17:04:37 -- Starting target class (1/1 targets)\n"
     ]
    },
    {
     "data": {
      "application/vnd.jupyter.widget-view+json": {
       "model_id": "eccca15673584ff4901667ed9f881ea8",
       "version_major": 2,
       "version_minor": 0
      },
      "text/plain": [
       "  0%|          | 0/100 [00:00<?, ?it/s]"
      ]
     },
     "metadata": {},
     "output_type": "display_data"
    },
    {
     "name": "stdout",
     "output_type": "stream",
     "text": [
      "2022-10-25 17:10:12 -- Starting RF classification (1 targets total).\n",
      "2022-10-25 17:10:12 -- Starting target class (1/1 targets)\n"
     ]
    },
    {
     "data": {
      "application/vnd.jupyter.widget-view+json": {
       "model_id": "022707d9bd4a4462996b3b2b1001d6e5",
       "version_major": 2,
       "version_minor": 0
      },
      "text/plain": [
       "  0%|          | 0/100 [00:00<?, ?it/s]"
      ]
     },
     "metadata": {},
     "output_type": "display_data"
    },
    {
     "name": "stdout",
     "output_type": "stream",
     "text": [
      "2022-10-25 17:15:54 -- Starting RF classification (1 targets total).\n",
      "2022-10-25 17:15:54 -- Starting target class (1/1 targets)\n"
     ]
    },
    {
     "data": {
      "application/vnd.jupyter.widget-view+json": {
       "model_id": "74e16389797a470c86984d34ec0a056f",
       "version_major": 2,
       "version_minor": 0
      },
      "text/plain": [
       "  0%|          | 0/100 [00:00<?, ?it/s]"
      ]
     },
     "metadata": {},
     "output_type": "display_data"
    },
    {
     "name": "stdout",
     "output_type": "stream",
     "text": [
      "                        AREA  PERCENTAGE   class\n",
      "date S1_pixel_ID                                \n",
      "0218 1             96.846579   96.846579  smooth\n",
      "     6            100.000000  100.000000   mixed\n",
      "     9             49.661367   49.661367      NC\n",
      "     11            63.555294   63.555294  smooth\n",
      "     13           100.000000  100.000000   mixed\n",
      "...                      ...         ...     ...\n",
      "0302 2521          28.133500   28.133500      NC\n",
      "     2524         100.000000  100.000000   mixed\n",
      "     2529           8.622913    8.622913      NC\n",
      "     2531          72.366325   72.366325   mixed\n",
      "     2533          73.664000   73.664000  smooth\n",
      "\n",
      "[1923 rows x 3 columns]\n",
      "145 481\n",
      "threshold: 60 -- n_samples: 70\n",
      "2022-10-25 17:22:29 -- Starting RF classification (1 targets total).\n",
      "2022-10-25 17:22:29 -- Starting target class (1/1 targets)\n"
     ]
    },
    {
     "data": {
      "application/vnd.jupyter.widget-view+json": {
       "model_id": "bfc1cea60d234bd0a2844bc6d2c7a13b",
       "version_major": 2,
       "version_minor": 0
      },
      "text/plain": [
       "  0%|          | 0/100 [00:00<?, ?it/s]"
      ]
     },
     "metadata": {},
     "output_type": "display_data"
    },
    {
     "name": "stdout",
     "output_type": "stream",
     "text": [
      "2022-10-25 17:28:14 -- Starting RF classification (1 targets total).\n",
      "2022-10-25 17:28:14 -- Starting target class (1/1 targets)\n"
     ]
    },
    {
     "data": {
      "application/vnd.jupyter.widget-view+json": {
       "model_id": "e8c083c04530415bad6037c1bf71c412",
       "version_major": 2,
       "version_minor": 0
      },
      "text/plain": [
       "  0%|          | 0/100 [00:00<?, ?it/s]"
      ]
     },
     "metadata": {},
     "output_type": "display_data"
    },
    {
     "name": "stdout",
     "output_type": "stream",
     "text": [
      "2022-10-25 17:33:44 -- Starting RF classification (1 targets total).\n",
      "2022-10-25 17:33:44 -- Starting target class (1/1 targets)\n"
     ]
    },
    {
     "data": {
      "application/vnd.jupyter.widget-view+json": {
       "model_id": "bdd52bcd7c5143fba1ba851c184a77df",
       "version_major": 2,
       "version_minor": 0
      },
      "text/plain": [
       "  0%|          | 0/100 [00:00<?, ?it/s]"
      ]
     },
     "metadata": {},
     "output_type": "display_data"
    },
    {
     "name": "stdout",
     "output_type": "stream",
     "text": [
      "                        AREA  PERCENTAGE   class\n",
      "date S1_pixel_ID                                \n",
      "0218 1             96.846579   96.846579  smooth\n",
      "     6            100.000000  100.000000   mixed\n",
      "     9             49.661367   49.661367      NC\n",
      "     11            63.555294   63.555294      NC\n",
      "     13           100.000000  100.000000   mixed\n",
      "...                      ...         ...     ...\n",
      "0302 2521          28.133500   28.133500      NC\n",
      "     2524         100.000000  100.000000   mixed\n",
      "     2529           8.622913    8.622913      NC\n",
      "     2531          72.366325   72.366325   mixed\n",
      "     2533          73.664000   73.664000  smooth\n",
      "\n",
      "[1923 rows x 3 columns]\n",
      "123 436\n",
      "threshold: 70 -- n_samples: 57\n",
      "2022-10-25 17:39:43 -- Starting RF classification (1 targets total).\n",
      "2022-10-25 17:39:43 -- Starting target class (1/1 targets)\n"
     ]
    },
    {
     "data": {
      "application/vnd.jupyter.widget-view+json": {
       "model_id": "eb7beffd1fd040a5815635ebf3b8d752",
       "version_major": 2,
       "version_minor": 0
      },
      "text/plain": [
       "  0%|          | 0/100 [00:00<?, ?it/s]"
      ]
     },
     "metadata": {},
     "output_type": "display_data"
    },
    {
     "name": "stdout",
     "output_type": "stream",
     "text": [
      "2022-10-25 17:44:59 -- Starting RF classification (1 targets total).\n",
      "2022-10-25 17:44:59 -- Starting target class (1/1 targets)\n"
     ]
    },
    {
     "data": {
      "application/vnd.jupyter.widget-view+json": {
       "model_id": "80427ef6a2ba4e2e9ce0abd6bd7a5ebe",
       "version_major": 2,
       "version_minor": 0
      },
      "text/plain": [
       "  0%|          | 0/100 [00:00<?, ?it/s]"
      ]
     },
     "metadata": {},
     "output_type": "display_data"
    },
    {
     "name": "stdout",
     "output_type": "stream",
     "text": [
      "2022-10-25 17:50:21 -- Starting RF classification (1 targets total).\n",
      "2022-10-25 17:50:21 -- Starting target class (1/1 targets)\n"
     ]
    },
    {
     "data": {
      "application/vnd.jupyter.widget-view+json": {
       "model_id": "ced861a4c4db49298a5cea0dcc42f433",
       "version_major": 2,
       "version_minor": 0
      },
      "text/plain": [
       "  0%|          | 0/100 [00:00<?, ?it/s]"
      ]
     },
     "metadata": {},
     "output_type": "display_data"
    },
    {
     "name": "stdout",
     "output_type": "stream",
     "text": [
      "                        AREA  PERCENTAGE   class\n",
      "date S1_pixel_ID                                \n",
      "0218 1             96.846579   96.846579  smooth\n",
      "     6            100.000000  100.000000   mixed\n",
      "     9             49.661367   49.661367      NC\n",
      "     11            63.555294   63.555294      NC\n",
      "     13           100.000000  100.000000   mixed\n",
      "...                      ...         ...     ...\n",
      "0302 2521          28.133500   28.133500      NC\n",
      "     2524         100.000000  100.000000   mixed\n",
      "     2529           8.622913    8.622913      NC\n",
      "     2531          72.366325   72.366325      NC\n",
      "     2533          73.664000   73.664000      NC\n",
      "\n",
      "[1923 rows x 3 columns]\n",
      "113 404\n",
      "threshold: 80 -- n_samples: 50\n",
      "2022-10-25 17:56:05 -- Starting RF classification (1 targets total).\n",
      "2022-10-25 17:56:05 -- Starting target class (1/1 targets)\n"
     ]
    },
    {
     "data": {
      "application/vnd.jupyter.widget-view+json": {
       "model_id": "e73bbda2cbe74e41b86dde335c880d89",
       "version_major": 2,
       "version_minor": 0
      },
      "text/plain": [
       "  0%|          | 0/100 [00:00<?, ?it/s]"
      ]
     },
     "metadata": {},
     "output_type": "display_data"
    },
    {
     "name": "stdout",
     "output_type": "stream",
     "text": [
      "2022-10-25 18:01:19 -- Starting RF classification (1 targets total).\n",
      "2022-10-25 18:01:19 -- Starting target class (1/1 targets)\n"
     ]
    },
    {
     "data": {
      "application/vnd.jupyter.widget-view+json": {
       "model_id": "843739ba1fab4bdab8d8d19ec235a619",
       "version_major": 2,
       "version_minor": 0
      },
      "text/plain": [
       "  0%|          | 0/100 [00:00<?, ?it/s]"
      ]
     },
     "metadata": {},
     "output_type": "display_data"
    },
    {
     "name": "stdout",
     "output_type": "stream",
     "text": [
      "2022-10-25 18:06:40 -- Starting RF classification (1 targets total).\n",
      "2022-10-25 18:06:40 -- Starting target class (1/1 targets)\n"
     ]
    },
    {
     "data": {
      "application/vnd.jupyter.widget-view+json": {
       "model_id": "f91575ddcf7e41a6bc5fcffcc98b2634",
       "version_major": 2,
       "version_minor": 0
      },
      "text/plain": [
       "  0%|          | 0/100 [00:00<?, ?it/s]"
      ]
     },
     "metadata": {},
     "output_type": "display_data"
    },
    {
     "name": "stdout",
     "output_type": "stream",
     "text": [
      "                        AREA  PERCENTAGE   class\n",
      "date S1_pixel_ID                                \n",
      "0218 1             96.846579   96.846579  smooth\n",
      "     6            100.000000  100.000000   mixed\n",
      "     9             49.661367   49.661367      NC\n",
      "     11            63.555294   63.555294      NC\n",
      "     13           100.000000  100.000000   mixed\n",
      "...                      ...         ...     ...\n",
      "0302 2521          28.133500   28.133500      NC\n",
      "     2524         100.000000  100.000000   mixed\n",
      "     2529           8.622913    8.622913      NC\n",
      "     2531          72.366325   72.366325      NC\n",
      "     2533          73.664000   73.664000      NC\n",
      "\n",
      "[1923 rows x 3 columns]\n",
      "98 363\n",
      "threshold: 90 -- n_samples: 42\n",
      "2022-10-25 18:12:15 -- Starting RF classification (1 targets total).\n",
      "2022-10-25 18:12:15 -- Starting target class (1/1 targets)\n"
     ]
    },
    {
     "data": {
      "application/vnd.jupyter.widget-view+json": {
       "model_id": "8c072fb56cd043ae9a8159b65c1d7e1c",
       "version_major": 2,
       "version_minor": 0
      },
      "text/plain": [
       "  0%|          | 0/100 [00:00<?, ?it/s]"
      ]
     },
     "metadata": {},
     "output_type": "display_data"
    },
    {
     "name": "stdout",
     "output_type": "stream",
     "text": [
      "2022-10-25 18:17:27 -- Starting RF classification (1 targets total).\n",
      "2022-10-25 18:17:27 -- Starting target class (1/1 targets)\n"
     ]
    },
    {
     "data": {
      "application/vnd.jupyter.widget-view+json": {
       "model_id": "b87d98740bdf43388f3cf3393273ebd8",
       "version_major": 2,
       "version_minor": 0
      },
      "text/plain": [
       "  0%|          | 0/100 [00:00<?, ?it/s]"
      ]
     },
     "metadata": {},
     "output_type": "display_data"
    },
    {
     "name": "stdout",
     "output_type": "stream",
     "text": [
      "2022-10-25 18:22:41 -- Starting RF classification (1 targets total).\n",
      "2022-10-25 18:22:41 -- Starting target class (1/1 targets)\n"
     ]
    },
    {
     "data": {
      "application/vnd.jupyter.widget-view+json": {
       "model_id": "fced0a0939f64736802a21f170eca1ec",
       "version_major": 2,
       "version_minor": 0
      },
      "text/plain": [
       "  0%|          | 0/100 [00:00<?, ?it/s]"
      ]
     },
     "metadata": {},
     "output_type": "display_data"
    },
    {
     "name": "stdout",
     "output_type": "stream",
     "text": [
      "                        AREA  PERCENTAGE  class\n",
      "date S1_pixel_ID                               \n",
      "0218 1             96.846579   96.846579     NC\n",
      "     6            100.000000  100.000000  mixed\n",
      "     9             49.661367   49.661367     NC\n",
      "     11            63.555294   63.555294     NC\n",
      "     13           100.000000  100.000000  mixed\n",
      "...                      ...         ...    ...\n",
      "0302 2521          28.133500   28.133500     NC\n",
      "     2524         100.000000  100.000000  mixed\n",
      "     2529           8.622913    8.622913     NC\n",
      "     2531          72.366325   72.366325     NC\n",
      "     2533          73.664000   73.664000     NC\n",
      "\n",
      "[1923 rows x 3 columns]\n",
      "60 284\n",
      "threshold: 100 -- n_samples: 24\n",
      "2022-10-25 18:28:12 -- Starting RF classification (1 targets total).\n",
      "2022-10-25 18:28:12 -- Starting target class (1/1 targets)\n"
     ]
    },
    {
     "data": {
      "application/vnd.jupyter.widget-view+json": {
       "model_id": "0f0d23aef6754d3582430ca711fa7662",
       "version_major": 2,
       "version_minor": 0
      },
      "text/plain": [
       "  0%|          | 0/100 [00:00<?, ?it/s]"
      ]
     },
     "metadata": {},
     "output_type": "display_data"
    },
    {
     "name": "stdout",
     "output_type": "stream",
     "text": [
      "2022-10-25 18:33:21 -- Starting RF classification (1 targets total).\n",
      "2022-10-25 18:33:21 -- Starting target class (1/1 targets)\n"
     ]
    },
    {
     "data": {
      "application/vnd.jupyter.widget-view+json": {
       "model_id": "f152398c2ef4472cb2d34a96579bcbf4",
       "version_major": 2,
       "version_minor": 0
      },
      "text/plain": [
       "  0%|          | 0/100 [00:00<?, ?it/s]"
      ]
     },
     "metadata": {},
     "output_type": "display_data"
    },
    {
     "name": "stdout",
     "output_type": "stream",
     "text": [
      "2022-10-25 18:38:35 -- Starting RF classification (1 targets total).\n",
      "2022-10-25 18:38:35 -- Starting target class (1/1 targets)\n"
     ]
    },
    {
     "data": {
      "application/vnd.jupyter.widget-view+json": {
       "model_id": "3f593a5a3e61448b95c410ed8842405a",
       "version_major": 2,
       "version_minor": 0
      },
      "text/plain": [
       "  0%|          | 0/100 [00:00<?, ?it/s]"
      ]
     },
     "metadata": {},
     "output_type": "display_data"
    }
   ],
   "source": [
    "for thresh in [50, 60, 70, 80, 90, 100]:\n",
    "    s1_fp = f'input_data/s1_classification_data_rev1_t{thresh}.csv' # classification\n",
    "    output_dir_predict = 'output/rf_classification/visually_based/class_results/single_date/'\n",
    "    output_dir_cm = 'output/figures/confusion/'\n",
    "    out_file_prefix = f'rev1_t{thresh}'\n",
    "\n",
    "    targets, predictors = data_setup(s1_fp, s1_units='dB', date=None, \n",
    "                                    drop_vv_glcm=False, drop_ad=False)\n",
    "    targets.rename(columns={'class_assignment':'class'}, inplace=True)\n",
    "    print(targets)\n",
    "    # For now, drop 'NC' class\n",
    "    targets = targets.loc[targets['class']!='NC']\n",
    "    targets = targets.loc[targets['class']!='mixed']\n",
    "    targets = targets.loc[targets['class']!='water']\n",
    "\n",
    "    # Dumb indexing to maintain multiindex values to pass to func below\n",
    "    targets_0218 = targets.loc[[i for i in targets.index if i[0] == '0218']]\n",
    "    targets_0302 = targets.loc[[i for i in targets.index if i[0] == '0302']]\n",
    "    print(len(targets_0218), len(targets_0302))\n",
    "\n",
    "    # Resample datasets for even samples in all classes\n",
    "    n_samples = min(sum(targets_0218['class'] == 'rough'), sum(targets_0218['class'] == 'smooth'))\n",
    "    print(f'threshold: {thresh} -- n_samples: {n_samples}')\n",
    "    targets_0218_rough = targets_0218[targets_0218['class'] == 'rough'].sample(n_samples)\n",
    "    targets_0218_smooth = targets_0218[targets_0218['class'] == 'smooth'].sample(n_samples)\n",
    "    try:\n",
    "        targets_0218_mixed = targets_0218[targets_0218['class'] == 'mixed'].sample(n_samples)\n",
    "        targets_0218 = pd.concat([targets_0218_rough, targets_0218_smooth, targets_0218_mixed])\n",
    "    except:\n",
    "        targets_0218 = pd.concat([targets_0218_rough, targets_0218_smooth])\n",
    "\n",
    "    targets_0302_rough = targets_0302[targets_0302['class'] == 'rough'].sample(n_samples)\n",
    "    targets_0302_smooth = targets_0302[targets_0302['class'] == 'smooth'].sample(n_samples)\n",
    "    try:\n",
    "        targets_0302_mixed = targets_0302[targets_0302['class'] == 'mixed'].sample(n_samples)\n",
    "        targets_0302 = pd.concat([targets_0302_rough, targets_0302_smooth, targets_0302_mixed])\n",
    "    except:\n",
    "        targets_0302 = pd.concat([targets_0302_rough, targets_0302_smooth])\n",
    "\n",
    "    targets = pd.concat([targets_0218, targets_0302])\n",
    "\n",
    "    rf_params = {'n_estimators':2000,\n",
    "                'max_features':'sqrt',\n",
    "                'max_depth':None, \n",
    "                'random_state':5033}\n",
    "\n",
    "    run_rf_cla(pd.DataFrame(targets_0218['class']), predictors.loc[targets_0218.index], n_runs=100,\n",
    "        class_split_method='custom', rf_params=rf_params,\n",
    "        output_dir_predict=output_dir_predict, out_file_prefix=out_file_prefix,\n",
    "        output_dir_cm=output_dir_cm)\n",
    "    run_rf_cla(pd.DataFrame(targets_0302['class']), predictors.loc[targets_0302.index], n_runs=100, \n",
    "        class_split_method='custom', rf_params=rf_params,\n",
    "        output_dir_predict=output_dir_predict, out_file_prefix=out_file_prefix,\n",
    "        output_dir_cm=output_dir_cm)\n",
    "\n",
    "    output_dir_predict = 'output/rf_classification/visually_based/class_results/multi_date/'\n",
    "    output_dir_cm = 'output/figures/confusion/'\n",
    "    out_file_prefix = f'rev1_t{thresh}'\n",
    "\n",
    "    run_rf_cla(pd.DataFrame(targets['class']), predictors.loc[targets.index], n_runs=100, class_split_method='custom',\n",
    "        output_dir_predict=output_dir_predict, out_file_prefix=out_file_prefix, rf_params=rf_params,\n",
    "        output_dir_cm=output_dir_cm)\n",
    "        "
   ]
  },
  {
   "cell_type": "code",
   "execution_count": 41,
   "metadata": {},
   "outputs": [
    {
     "data": {
      "text/plain": [
       "55"
      ]
     },
     "execution_count": 41,
     "metadata": {},
     "output_type": "execute_result"
    }
   ],
   "source": [
    "min(sum(targets_0218['class'] == 'rough'), sum(targets_0218['class'] == 'smooth'))"
   ]
  },
  {
   "cell_type": "markdown",
   "metadata": {},
   "source": [
    "# Classification - multi date\n",
    "\n",
    "Note - need to run the previous cell to load in the data"
   ]
  },
  {
   "cell_type": "code",
   "execution_count": null,
   "metadata": {},
   "outputs": [],
   "source": [
    "output_dir_predict = 'output/rf_classification/class_results/multi_date/'\n",
    "output_dir_cm = 'output/figures/confusion/'\n",
    "out_file_prefix = 'func_test_classification'\n",
    "\n",
    "run_rf_cla(targets_all, predictors, n_runs=100, n_classes=5, \n",
    "    output_dir_predict=output_dir_predict, out_file_prefix=out_file_prefix,\n",
    "    output_dir_cm=output_dir_cm)"
   ]
  },
  {
   "cell_type": "code",
   "execution_count": 12,
   "metadata": {},
   "outputs": [
    {
     "data": {
      "text/plain": [
       "'20220723_160242'"
      ]
     },
     "execution_count": 12,
     "metadata": {},
     "output_type": "execute_result"
    }
   ],
   "source": [
    "datetime.now().strftime('%Y%m%d_%H%M%S')"
   ]
  },
  {
   "cell_type": "code",
   "execution_count": null,
   "metadata": {},
   "outputs": [],
   "source": []
  }
 ],
 "metadata": {
  "kernelspec": {
   "display_name": "Python 3.8.10 ('base')",
   "language": "python",
   "name": "python3"
  },
  "language_info": {
   "codemirror_mode": {
    "name": "ipython",
    "version": 3
   },
   "file_extension": ".py",
   "mimetype": "text/x-python",
   "name": "python",
   "nbconvert_exporter": "python",
   "pygments_lexer": "ipython3",
   "version": "3.8.10"
  },
  "orig_nbformat": 4,
  "vscode": {
   "interpreter": {
    "hash": "ad2bdc8ecc057115af97d19610ffacc2b4e99fae6737bb82f5d7fb13d2f2c186"
   }
  }
 },
 "nbformat": 4,
 "nbformat_minor": 2
}
