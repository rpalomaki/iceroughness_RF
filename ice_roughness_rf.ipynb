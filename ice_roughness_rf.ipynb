{
 "cells": [
  {
   "cell_type": "code",
   "execution_count": 1,
   "metadata": {},
   "outputs": [],
   "source": [
    "import numpy as np\n",
    "import pandas as pd\n",
    "import re\n",
    "import matplotlib.pyplot as plt\n",
    "from sklearn.ensemble import RandomForestRegressor, RandomForestClassifier\n",
    "from sklearn.model_selection import train_test_split\n",
    "from scipy.stats import norm, lognorm, anderson, kstest\n",
    "from sklearn import metrics\n",
    "from rf_functions import data_setup, run_rf_reg, run_rf_cla\n",
    "import matplotlib.pyplot as plt\n",
    "import seaborn as sns\n",
    "from datetime import datetime\n",
    "import warnings\n",
    "warnings.filterwarnings(\"ignore\", category=RuntimeWarning)\n",
    "pd.options.mode.chained_assignment = None"
   ]
  },
  {
   "cell_type": "markdown",
   "metadata": {},
   "source": [
    "# Regression - single date"
   ]
  },
  {
   "cell_type": "code",
   "execution_count": null,
   "metadata": {},
   "outputs": [],
   "source": [
    "s1_fp = 'input_data/s1_zonal_data.csv'\n",
    "stats_fp = 'output/stats/scale_shape_both_dates.csv'\n",
    "moran_fp = 'input_data/moran_max.csv'\n",
    "output_dir_predict = 'output/rf_predictions/single_date/'\n",
    "output_dir_metrics = 'output/rf_metrics/single_date/'\n",
    "out_file_prefix = 'func_test_dB'\n",
    "\n",
    "targets, predictors = data_setup(s1_fp, stats_fp, moran_fp, s1_units='dB', date=None) # regression\n",
    "cols_0218 = [c for c in targets.columns if '0219' in c]\n",
    "cols_0302 = [c for c in targets.columns if '0304' in c]\n",
    "cols_misc = [c for c in targets.columns if c not in cols_0218 and c not in cols_0302]\n",
    "cols_misc.remove('Point_ID')\n",
    "cols_misc.remove('moran_p')\n",
    "cols_0218 += cols_misc\n",
    "cols_0302 += cols_misc\n",
    "\n",
    "cols_0218 = [c for c in cols_0218 if '10m' in c]\n",
    "cols_0302 = [c for c in cols_0302 if '10m' in c]\n",
    "\n",
    "targets_0218 = targets[cols_0218].dropna()\n",
    "targets_0302 = targets[cols_0302].dropna()\n",
    "\n",
    "# run_rf_reg(targets_0218, predictors.loc[targets_0218.index], n_runs=100, \n",
    "#        rf_type='single_target', output_dir_predict=output_dir_predict,\n",
    "#        output_dir_metrics=output_dir_metrics, out_file_prefix=out_file_prefix)\n",
    "# run_rf_reg(targets_0302, predictors.loc[targets_0302.index], n_runs=100, \n",
    "#        rf_type='single_target', output_dir_predict=output_dir_predict,\n",
    "#        output_dir_metrics=output_dir_metrics, out_file_prefix=out_file_prefix)\n",
    "\n"
   ]
  },
  {
   "cell_type": "markdown",
   "metadata": {},
   "source": [
    "# Regression - multi date\n",
    "\n",
    "Note - need to run the previous cell to load in the data"
   ]
  },
  {
   "cell_type": "code",
   "execution_count": null,
   "metadata": {},
   "outputs": [],
   "source": [
    "output_dir_predict = 'output/rf_predictions/multi_date/'\n",
    "output_dir_metrics = 'output/rf_metrics/multi_date/'\n",
    "out_file_prefix = 'func_test_dB'\n",
    "\n",
    "def remove_date(col):\n",
    "    if '0219' in col:\n",
    "        date_start = col.index('0219')\n",
    "    elif '0304' in col:\n",
    "        date_start = col.index('0304')\n",
    "    else:\n",
    "        return col\n",
    "    \n",
    "    new_col = col[:date_start] + col[date_start+5:]\n",
    "    if '_1_' in new_col:\n",
    "        ind = new_col.index('_1_')\n",
    "        new_col = new_col[:ind] + new_col[ind+2:]\n",
    "    return new_col\n",
    "\n",
    "cols_0218_new = [remove_date(c) for c in cols_0218]\n",
    "cols_0302_new = [remove_date(c) for c in cols_0302]\n",
    "\n",
    "targets_0218.columns = cols_0218_new\n",
    "targets_0302.columns = cols_0302_new\n",
    "\n",
    "targets_all = pd.concat([targets_0218, targets_0302])\n",
    "\n",
    "# run_rf_reg(targets_all, predictors, n_runs=100, rf_type='single_target', \n",
    "#        output_dir_predict=output_dir_predict, output_dir_metrics=output_dir_metrics, \n",
    "#        out_file_prefix=out_file_prefix)\n",
    "\n"
   ]
  },
  {
   "cell_type": "markdown",
   "metadata": {},
   "source": [
    "# Classification - single date"
   ]
  },
  {
   "cell_type": "code",
   "execution_count": 10,
   "metadata": {},
   "outputs": [
    {
     "name": "stdout",
     "output_type": "stream",
     "text": [
      "2022-08-01 07:15:52 -- Starting RF classification (1 targets total).\n",
      "2022-08-01 07:15:52 -- Starting target class (1/1 targets)\n"
     ]
    },
    {
     "data": {
      "application/vnd.jupyter.widget-view+json": {
       "model_id": "2952675a2800482db112ca6fdb386047",
       "version_major": 2,
       "version_minor": 0
      },
      "text/plain": [
       "  0%|          | 0/100 [00:00<?, ?it/s]"
      ]
     },
     "metadata": {},
     "output_type": "display_data"
    },
    {
     "name": "stdout",
     "output_type": "stream",
     "text": [
      "2022-08-01 07:19:38 -- Starting RF classification (1 targets total).\n",
      "2022-08-01 07:19:38 -- Starting target class (1/1 targets)\n"
     ]
    },
    {
     "data": {
      "application/vnd.jupyter.widget-view+json": {
       "model_id": "152b273ff1b74f779eefed97395a65b1",
       "version_major": 2,
       "version_minor": 0
      },
      "text/plain": [
       "  0%|          | 0/100 [00:00<?, ?it/s]"
      ]
     },
     "metadata": {},
     "output_type": "display_data"
    },
    {
     "name": "stdout",
     "output_type": "stream",
     "text": [
      "2022-08-01 07:23:30 -- Starting RF classification (1 targets total).\n",
      "2022-08-01 07:23:30 -- Starting target class (1/1 targets)\n"
     ]
    },
    {
     "data": {
      "application/vnd.jupyter.widget-view+json": {
       "model_id": "60ce36335ed3474eae0b33b8de3d2d93",
       "version_major": 2,
       "version_minor": 0
      },
      "text/plain": [
       "  0%|          | 0/100 [00:00<?, ?it/s]"
      ]
     },
     "metadata": {},
     "output_type": "display_data"
    }
   ],
   "source": [
    "s1_fp = 'input_data/s1_classification_data.csv' # classification\n",
    "output_dir_predict = 'output/rf_classification/visually_based/class_results/single_date/'\n",
    "output_dir_cm = 'output/figures/confusion/'\n",
    "out_file_prefix = 'smooth_rough_mixed'\n",
    "\n",
    "targets, predictors = data_setup(s1_fp, s1_units='dB', date=None, \n",
    "                                 drop_vv_glcm=False, drop_ad=False)\n",
    "targets.rename(columns={'class_assignment':'class'}, inplace=True)\n",
    "\n",
    "# For now, drop 'NC' class\n",
    "targets = targets.loc[targets['class']!='NC']\n",
    "targets = targets.loc[targets['class']!='mixed']\n",
    "targets = targets.loc[targets['class']!='water']\n",
    "\n",
    "# Dumb indexing to maintain multiindex values to pass to func below\n",
    "targets_0218 = targets.loc[[i for i in targets.index if i[0] == '0218']]\n",
    "targets_0302 = targets.loc[[i for i in targets.index if i[0] == '0302']]\n",
    "\n",
    "# Resample datasets for even samples in all classes\n",
    "n_samples = 80\n",
    "targets_0218_rough = targets_0218[targets_0218['class'] == 'rough'].sample(n_samples)\n",
    "targets_0218_smooth = targets_0218[targets_0218['class'] == 'smooth'].sample(n_samples)\n",
    "try:\n",
    "    targets_0218_mixed = targets_0218[targets_0218['class'] == 'mixed'].sample(n_samples)\n",
    "    targets_0218 = pd.concat([targets_0218_rough, targets_0218_smooth, targets_0218_mixed])\n",
    "except:\n",
    "    targets_0218 = pd.concat([targets_0218_rough, targets_0218_smooth])\n",
    "\n",
    "targets_0302_rough = targets_0302[targets_0302['class'] == 'rough'].sample(n_samples)\n",
    "targets_0302_smooth = targets_0302[targets_0302['class'] == 'smooth'].sample(n_samples)\n",
    "try:\n",
    "    targets_0302_mixed = targets_0302[targets_0302['class'] == 'mixed'].sample(n_samples)\n",
    "    targets_0302 = pd.concat([targets_0302_rough, targets_0302_smooth, targets_0302_mixed])\n",
    "except:\n",
    "    targets_0302 = pd.concat([targets_0302_rough, targets_0302_smooth])\n",
    "\n",
    "targets = pd.concat([targets_0218, targets_0302])\n",
    "\n",
    "rf_params = {'n_estimators':2000,\n",
    "             'max_features':'sqrt',\n",
    "             'max_depth':None, \n",
    "             'random_state':5033}\n",
    "\n",
    "run_rf_cla(targets_0218, predictors.loc[targets_0218.index], n_runs=100,\n",
    "    class_split_method='custom', rf_params=rf_params,\n",
    "    output_dir_predict=output_dir_predict, out_file_prefix=out_file_prefix,\n",
    "    output_dir_cm=output_dir_cm)\n",
    "run_rf_cla(targets_0302, predictors.loc[targets_0302.index], n_runs=100, \n",
    "    class_split_method='custom', rf_params=rf_params,\n",
    "    output_dir_predict=output_dir_predict, out_file_prefix=out_file_prefix,\n",
    "    output_dir_cm=output_dir_cm)\n",
    "\n",
    "output_dir_predict = 'output/rf_classification/visually_based/class_results/multi_date/'\n",
    "output_dir_cm = 'output/figures/confusion/'\n",
    "out_file_prefix = 'smooth_rough_only'\n",
    "\n",
    "run_rf_cla(targets, predictors.loc[targets.index], n_runs=100, class_split_method='custom',\n",
    "    output_dir_predict=output_dir_predict, out_file_prefix=out_file_prefix, rf_params=rf_params,\n",
    "    output_dir_cm=output_dir_cm)\n",
    "    "
   ]
  },
  {
   "cell_type": "code",
   "execution_count": 20,
   "metadata": {},
   "outputs": [
    {
     "data": {
      "text/html": [
       "<div>\n",
       "<style scoped>\n",
       "    .dataframe tbody tr th:only-of-type {\n",
       "        vertical-align: middle;\n",
       "    }\n",
       "\n",
       "    .dataframe tbody tr th {\n",
       "        vertical-align: top;\n",
       "    }\n",
       "\n",
       "    .dataframe thead th {\n",
       "        text-align: right;\n",
       "    }\n",
       "</style>\n",
       "<table border=\"1\" class=\"dataframe\">\n",
       "  <thead>\n",
       "    <tr style=\"text-align: right;\">\n",
       "      <th></th>\n",
       "      <th></th>\n",
       "      <th>class</th>\n",
       "    </tr>\n",
       "    <tr>\n",
       "      <th>date</th>\n",
       "      <th>S1_pixel_ID</th>\n",
       "      <th></th>\n",
       "    </tr>\n",
       "  </thead>\n",
       "  <tbody>\n",
       "    <tr>\n",
       "      <th rowspan=\"5\" valign=\"top\">0218</th>\n",
       "      <th>88</th>\n",
       "      <td>rough</td>\n",
       "    </tr>\n",
       "    <tr>\n",
       "      <th>265</th>\n",
       "      <td>rough</td>\n",
       "    </tr>\n",
       "    <tr>\n",
       "      <th>724</th>\n",
       "      <td>rough</td>\n",
       "    </tr>\n",
       "    <tr>\n",
       "      <th>100</th>\n",
       "      <td>rough</td>\n",
       "    </tr>\n",
       "    <tr>\n",
       "      <th>911</th>\n",
       "      <td>rough</td>\n",
       "    </tr>\n",
       "    <tr>\n",
       "      <th>...</th>\n",
       "      <th>...</th>\n",
       "      <td>...</td>\n",
       "    </tr>\n",
       "    <tr>\n",
       "      <th rowspan=\"5\" valign=\"top\">0302</th>\n",
       "      <th>1882</th>\n",
       "      <td>mixed</td>\n",
       "    </tr>\n",
       "    <tr>\n",
       "      <th>1247</th>\n",
       "      <td>mixed</td>\n",
       "    </tr>\n",
       "    <tr>\n",
       "      <th>510</th>\n",
       "      <td>mixed</td>\n",
       "    </tr>\n",
       "    <tr>\n",
       "      <th>1843</th>\n",
       "      <td>mixed</td>\n",
       "    </tr>\n",
       "    <tr>\n",
       "      <th>83</th>\n",
       "      <td>mixed</td>\n",
       "    </tr>\n",
       "  </tbody>\n",
       "</table>\n",
       "<p>480 rows × 1 columns</p>\n",
       "</div>"
      ],
      "text/plain": [
       "                  class\n",
       "date S1_pixel_ID       \n",
       "0218 88           rough\n",
       "     265          rough\n",
       "     724          rough\n",
       "     100          rough\n",
       "     911          rough\n",
       "...                 ...\n",
       "0302 1882         mixed\n",
       "     1247         mixed\n",
       "     510          mixed\n",
       "     1843         mixed\n",
       "     83           mixed\n",
       "\n",
       "[480 rows x 1 columns]"
      ]
     },
     "execution_count": 20,
     "metadata": {},
     "output_type": "execute_result"
    }
   ],
   "source": [
    "# targets_0302.groupby('class_assignment')['class_assignment'].count()\n",
    "targets"
   ]
  },
  {
   "cell_type": "markdown",
   "metadata": {},
   "source": [
    "# Classification - multi date\n",
    "\n",
    "Note - need to run the previous cell to load in the data"
   ]
  },
  {
   "cell_type": "code",
   "execution_count": null,
   "metadata": {},
   "outputs": [],
   "source": [
    "output_dir_predict = 'output/rf_classification/class_results/multi_date/'\n",
    "output_dir_cm = 'output/figures/confusion/'\n",
    "out_file_prefix = 'func_test_classification'\n",
    "\n",
    "run_rf_cla(targets_all, predictors, n_runs=100, n_classes=5, \n",
    "    output_dir_predict=output_dir_predict, out_file_prefix=out_file_prefix,\n",
    "    output_dir_cm=output_dir_cm)"
   ]
  },
  {
   "cell_type": "code",
   "execution_count": 13,
   "metadata": {},
   "outputs": [],
   "source": [
    "targets.to_csv('output/stats/classification_samples.csv')"
   ]
  },
  {
   "cell_type": "code",
   "execution_count": null,
   "metadata": {},
   "outputs": [],
   "source": []
  }
 ],
 "metadata": {
  "kernelspec": {
   "display_name": "Python 3.8.8 ('base')",
   "language": "python",
   "name": "python3"
  },
  "language_info": {
   "codemirror_mode": {
    "name": "ipython",
    "version": 3
   },
   "file_extension": ".py",
   "mimetype": "text/x-python",
   "name": "python",
   "nbconvert_exporter": "python",
   "pygments_lexer": "ipython3",
   "version": "3.8.8"
  },
  "orig_nbformat": 4,
  "vscode": {
   "interpreter": {
    "hash": "40d3a090f54c6569ab1632332b64b2c03c39dcf918b08424e98f38b5ae0af88f"
   }
  }
 },
 "nbformat": 4,
 "nbformat_minor": 2
}
