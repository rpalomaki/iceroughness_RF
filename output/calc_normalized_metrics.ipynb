{
 "cells": [
  {
   "cell_type": "code",
   "execution_count": 39,
   "metadata": {},
   "outputs": [
    {
     "name": "stdout",
     "output_type": "stream",
     "text": [
      "Not found: rf_metrics/single_date/0219/func_test_dB_iqr.csv\n",
      "Not found: rf_metrics/single_date/0219/func_test_dB_p95-p5.csv\n",
      "Not found: rf_metrics/single_date/0219/func_test_dB_roughness_p5.csv\n",
      "Not found: rf_metrics/single_date/0219/func_test_dB_roughness_p95.csv\n"
     ]
    }
   ],
   "source": [
    "import pandas as pd\n",
    "import numpy as np\n",
    "from glob import glob\n",
    "\n",
    "f_0219 = sorted(glob('rf_predictions/single_date/0219/*dB*.csv'))\n",
    "f_0302 = sorted(glob('rf_predictions/single_date/0302/*dB*.csv'))\n",
    "f_multi = sorted(glob('rf_predictions/multi_date/*dB*.csv'))\n",
    "\n",
    "def rmspe(predict, valid):\n",
    "    return np.sqrt((((valid - predict)/valid)**2).sum() / len(predict)) * 100\n",
    "\n",
    "\n",
    "def mape(predict, valid):\n",
    "    return np.abs((valid - predict)/valid).sum() / len(predict) * 100\n",
    "\n",
    "\n",
    "for l in [f_0219, f_0302, f_multi]:\n",
    "    for f in l:\n",
    "        # Calculate new metrics from old predictions\n",
    "        predictions = pd.read_csv(f, index_col=0)\n",
    "        predictions['run_no'] = predictions['run_no'].astype(int)\n",
    "        mape_list = []\n",
    "        rmspe_list = []\n",
    "        for i in predictions['run_no'].unique():\n",
    "            df = predictions[predictions['run_no'] == i]\n",
    "            mape_list.append(mape(df['predict'], df['valid']))\n",
    "            rmspe_list.append(rmspe(df['predict'], df['valid']))\n",
    "        # Save new metrics with old metrics\n",
    "        metrics_f = 'rf_metrics/' + f.split('/', 1)[1]\n",
    "        try:\n",
    "            metrics = pd.read_csv(metrics_f, index_col=0)\n",
    "            metrics['rmspe'] = rmspe_list\n",
    "            metrics['mape'] = mape_list\n",
    "            metrics.to_csv(metrics_f)\n",
    "        except FileNotFoundError:\n",
    "            print(f'Not found: {metrics_f}')"
   ]
  },
  {
   "cell_type": "code",
   "execution_count": 38,
   "metadata": {},
   "outputs": [
    {
     "name": "stdout",
     "output_type": "stream",
     "text": [
      "101 101 101\n"
     ]
    }
   ],
   "source": [
    "print(len(f_0219), len(f_0302), len(f_multi))"
   ]
  },
  {
   "cell_type": "code",
   "execution_count": 30,
   "metadata": {},
   "outputs": [
    {
     "data": {
      "text/plain": [
       "[20.71766491632186,\n",
       " 21.406753237792252,\n",
       " 20.847453704248302,\n",
       " 21.147011627660184,\n",
       " 21.275089833360045,\n",
       " 20.849862741165776,\n",
       " 20.549049512814783,\n",
       " 20.1005865515328,\n",
       " 20.595926028779683,\n",
       " 20.508440568972848,\n",
       " 21.46545213499279,\n",
       " 21.924621439802337,\n",
       " 20.191607766541694,\n",
       " 21.085896069610083,\n",
       " 21.090402523289068,\n",
       " 20.14074514401142,\n",
       " 19.774963519173355,\n",
       " 20.22440718980363,\n",
       " 20.7233041900815,\n",
       " 22.190866580399994,\n",
       " 20.09456780920304,\n",
       " 19.87843882522837,\n",
       " 20.732669561889153,\n",
       " 20.47337141637022,\n",
       " 20.986853972697347,\n",
       " 19.727838920255635,\n",
       " 20.938434936603826,\n",
       " 20.873386749995333,\n",
       " 20.22906303388804,\n",
       " 20.567021818021267,\n",
       " 20.901327914563712,\n",
       " 20.639511966041606,\n",
       " 21.121212497348115,\n",
       " 21.68269438195044,\n",
       " 22.088427596653506,\n",
       " 21.12979089637322,\n",
       " 20.249661552417663,\n",
       " 20.809160938423947,\n",
       " 20.809880119694046,\n",
       " 22.19281425197167,\n",
       " 20.983699780218906,\n",
       " 20.331433939057952,\n",
       " 19.276190382068233,\n",
       " 21.25474812936358,\n",
       " 20.264069103634565,\n",
       " 20.714350718990122,\n",
       " 21.328133037930865,\n",
       " 21.30560883185305,\n",
       " 21.203442814725417,\n",
       " 20.68729144907698,\n",
       " 20.146672175947963,\n",
       " 19.942750110424576,\n",
       " 20.247123539076583,\n",
       " 20.092863961932032,\n",
       " 20.970770621632916,\n",
       " 20.892974520211876,\n",
       " 20.968074098655908,\n",
       " 21.182413336745626,\n",
       " 21.20766397646626,\n",
       " 21.204447359733074,\n",
       " 21.309309820380136,\n",
       " 21.66733846542237,\n",
       " 19.560904473634263,\n",
       " 20.690453771433166,\n",
       " 20.79361512460999,\n",
       " 21.709898372905915,\n",
       " 19.61795292666161,\n",
       " 20.459564658475138,\n",
       " 21.267395775463985,\n",
       " 20.408796806655367,\n",
       " 20.463092429045545,\n",
       " 20.417635668173173,\n",
       " 21.675792991139375,\n",
       " 21.446561015288673,\n",
       " 20.928381281359393,\n",
       " 20.390457765178034,\n",
       " 20.46426220344108,\n",
       " 20.449968277704357,\n",
       " 20.271210154677274,\n",
       " 21.22674294969834,\n",
       " 21.762713006497943,\n",
       " 20.12296970090251,\n",
       " 20.68561539686401,\n",
       " 21.033558536657214,\n",
       " 21.281994792604415,\n",
       " 20.83903424551961,\n",
       " 21.175240353598717,\n",
       " 22.115924990143842,\n",
       " 21.31269255529676,\n",
       " 21.285984939585685,\n",
       " 21.057230387269424,\n",
       " 20.4418785264264,\n",
       " 20.073419832747284,\n",
       " 20.528484561879797,\n",
       " 20.29132175752714,\n",
       " 20.973345065365578,\n",
       " 20.740334202635907,\n",
       " 19.368517125403955,\n",
       " 20.675117902763454,\n",
       " 21.399224460276052]"
      ]
     },
     "execution_count": 30,
     "metadata": {},
     "output_type": "execute_result"
    }
   ],
   "source": [
    "rmspe_list"
   ]
  },
  {
   "cell_type": "code",
   "execution_count": null,
   "metadata": {},
   "outputs": [],
   "source": []
  }
 ],
 "metadata": {
  "kernelspec": {
   "display_name": "Python 3.8.8 ('base')",
   "language": "python",
   "name": "python3"
  },
  "language_info": {
   "codemirror_mode": {
    "name": "ipython",
    "version": 3
   },
   "file_extension": ".py",
   "mimetype": "text/x-python",
   "name": "python",
   "nbconvert_exporter": "python",
   "pygments_lexer": "ipython3",
   "version": "3.8.8"
  },
  "orig_nbformat": 4,
  "vscode": {
   "interpreter": {
    "hash": "40d3a090f54c6569ab1632332b64b2c03c39dcf918b08424e98f38b5ae0af88f"
   }
  }
 },
 "nbformat": 4,
 "nbformat_minor": 2
}
